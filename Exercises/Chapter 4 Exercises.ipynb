{
 "cells": [
  {
   "cell_type": "markdown",
   "metadata": {},
   "source": [
    "## Exercises"
   ]
  },
  {
   "cell_type": "code",
   "execution_count": 9,
   "metadata": {},
   "outputs": [],
   "source": [
    "import numpy as np\n",
    "import matplotlib.pyplot as plt\n",
    "import pandas as pd\n",
    "\n",
    "import sklearn.linear_model as skl_lm\n",
    "from sklearn.discriminant_analysis import LinearDiscriminantAnalysis\n",
    "from sklearn.metrics import roc_curve, auc\n",
    "from sklearn.discriminant_analysis import QuadraticDiscriminantAnalysis\n",
    "from sklearn.metrics import confusion_matrix, classification_report, precision_score\n",
    "from sklearn import preprocessing\n",
    "from sklearn import neighbors\n",
    "\n",
    "import statsmodels.api as sm\n",
    "import statsmodels.formula.api as smf"
   ]
  },
  {
   "cell_type": "markdown",
   "metadata": {},
   "source": [
    "### Question 10"
   ]
  },
  {
   "cell_type": "markdown",
   "metadata": {},
   "source": [
    "#### 10.a"
   ]
  },
  {
   "cell_type": "code",
   "execution_count": 20,
   "metadata": {},
   "outputs": [
    {
     "data": {
      "text/html": [
       "<div>\n",
       "<style>\n",
       "    .dataframe thead tr:only-child th {\n",
       "        text-align: right;\n",
       "    }\n",
       "\n",
       "    .dataframe thead th {\n",
       "        text-align: left;\n",
       "    }\n",
       "\n",
       "    .dataframe tbody tr th {\n",
       "        vertical-align: top;\n",
       "    }\n",
       "</style>\n",
       "<table border=\"1\" class=\"dataframe\">\n",
       "  <thead>\n",
       "    <tr style=\"text-align: right;\">\n",
       "      <th></th>\n",
       "      <th>Lag1</th>\n",
       "      <th>Lag2</th>\n",
       "      <th>Lag3</th>\n",
       "      <th>Lag4</th>\n",
       "      <th>Lag5</th>\n",
       "      <th>Volume</th>\n",
       "      <th>Today</th>\n",
       "      <th>Direction</th>\n",
       "      <th>Direction2</th>\n",
       "    </tr>\n",
       "    <tr>\n",
       "      <th>Year</th>\n",
       "      <th></th>\n",
       "      <th></th>\n",
       "      <th></th>\n",
       "      <th></th>\n",
       "      <th></th>\n",
       "      <th></th>\n",
       "      <th></th>\n",
       "      <th></th>\n",
       "      <th></th>\n",
       "    </tr>\n",
       "  </thead>\n",
       "  <tbody>\n",
       "    <tr>\n",
       "      <th>1990-01-01</th>\n",
       "      <td>0.816</td>\n",
       "      <td>1.572</td>\n",
       "      <td>-3.936</td>\n",
       "      <td>-0.229</td>\n",
       "      <td>-3.484</td>\n",
       "      <td>0.154976</td>\n",
       "      <td>-0.270</td>\n",
       "      <td>Down</td>\n",
       "      <td>0</td>\n",
       "    </tr>\n",
       "    <tr>\n",
       "      <th>1990-01-01</th>\n",
       "      <td>-0.270</td>\n",
       "      <td>0.816</td>\n",
       "      <td>1.572</td>\n",
       "      <td>-3.936</td>\n",
       "      <td>-0.229</td>\n",
       "      <td>0.148574</td>\n",
       "      <td>-2.576</td>\n",
       "      <td>Down</td>\n",
       "      <td>0</td>\n",
       "    </tr>\n",
       "    <tr>\n",
       "      <th>1990-01-01</th>\n",
       "      <td>-2.576</td>\n",
       "      <td>-0.270</td>\n",
       "      <td>0.816</td>\n",
       "      <td>1.572</td>\n",
       "      <td>-3.936</td>\n",
       "      <td>0.159837</td>\n",
       "      <td>3.514</td>\n",
       "      <td>Up</td>\n",
       "      <td>1</td>\n",
       "    </tr>\n",
       "    <tr>\n",
       "      <th>1990-01-01</th>\n",
       "      <td>3.514</td>\n",
       "      <td>-2.576</td>\n",
       "      <td>-0.270</td>\n",
       "      <td>0.816</td>\n",
       "      <td>1.572</td>\n",
       "      <td>0.161630</td>\n",
       "      <td>0.712</td>\n",
       "      <td>Up</td>\n",
       "      <td>1</td>\n",
       "    </tr>\n",
       "    <tr>\n",
       "      <th>1990-01-01</th>\n",
       "      <td>0.712</td>\n",
       "      <td>3.514</td>\n",
       "      <td>-2.576</td>\n",
       "      <td>-0.270</td>\n",
       "      <td>0.816</td>\n",
       "      <td>0.153728</td>\n",
       "      <td>1.178</td>\n",
       "      <td>Up</td>\n",
       "      <td>1</td>\n",
       "    </tr>\n",
       "  </tbody>\n",
       "</table>\n",
       "</div>"
      ],
      "text/plain": [
       "             Lag1   Lag2   Lag3   Lag4   Lag5    Volume  Today Direction  \\\n",
       "Year                                                                       \n",
       "1990-01-01  0.816  1.572 -3.936 -0.229 -3.484  0.154976 -0.270      Down   \n",
       "1990-01-01 -0.270  0.816  1.572 -3.936 -0.229  0.148574 -2.576      Down   \n",
       "1990-01-01 -2.576 -0.270  0.816  1.572 -3.936  0.159837  3.514        Up   \n",
       "1990-01-01  3.514 -2.576 -0.270  0.816  1.572  0.161630  0.712        Up   \n",
       "1990-01-01  0.712  3.514 -2.576 -0.270  0.816  0.153728  1.178        Up   \n",
       "\n",
       "            Direction2  \n",
       "Year                    \n",
       "1990-01-01           0  \n",
       "1990-01-01           0  \n",
       "1990-01-01           1  \n",
       "1990-01-01           1  \n",
       "1990-01-01           1  "
      ]
     },
     "execution_count": 20,
     "metadata": {},
     "output_type": "execute_result"
    }
   ],
   "source": [
    "weekly = pd.read_csv('Data/Weekly.csv', index_col=0, parse_dates=True)\n",
    "weekly['Direction2'] = weekly.Direction.factorize()[0]\n",
    "weekly.head()"
   ]
  },
  {
   "cell_type": "code",
   "execution_count": 21,
   "metadata": {},
   "outputs": [
    {
     "data": {
      "text/html": [
       "<div>\n",
       "<style>\n",
       "    .dataframe thead tr:only-child th {\n",
       "        text-align: right;\n",
       "    }\n",
       "\n",
       "    .dataframe thead th {\n",
       "        text-align: left;\n",
       "    }\n",
       "\n",
       "    .dataframe tbody tr th {\n",
       "        vertical-align: top;\n",
       "    }\n",
       "</style>\n",
       "<table border=\"1\" class=\"dataframe\">\n",
       "  <thead>\n",
       "    <tr style=\"text-align: right;\">\n",
       "      <th></th>\n",
       "      <th>Lag1</th>\n",
       "      <th>Lag2</th>\n",
       "      <th>Lag3</th>\n",
       "      <th>Lag4</th>\n",
       "      <th>Lag5</th>\n",
       "      <th>Volume</th>\n",
       "      <th>Today</th>\n",
       "      <th>Direction2</th>\n",
       "    </tr>\n",
       "  </thead>\n",
       "  <tbody>\n",
       "    <tr>\n",
       "      <th>count</th>\n",
       "      <td>1089.000000</td>\n",
       "      <td>1089.000000</td>\n",
       "      <td>1089.000000</td>\n",
       "      <td>1089.000000</td>\n",
       "      <td>1089.000000</td>\n",
       "      <td>1089.000000</td>\n",
       "      <td>1089.000000</td>\n",
       "      <td>1089.000000</td>\n",
       "    </tr>\n",
       "    <tr>\n",
       "      <th>mean</th>\n",
       "      <td>0.150585</td>\n",
       "      <td>0.151079</td>\n",
       "      <td>0.147205</td>\n",
       "      <td>0.145818</td>\n",
       "      <td>0.139893</td>\n",
       "      <td>1.574618</td>\n",
       "      <td>0.149899</td>\n",
       "      <td>0.555556</td>\n",
       "    </tr>\n",
       "    <tr>\n",
       "      <th>std</th>\n",
       "      <td>2.357013</td>\n",
       "      <td>2.357254</td>\n",
       "      <td>2.360502</td>\n",
       "      <td>2.360279</td>\n",
       "      <td>2.361285</td>\n",
       "      <td>1.686636</td>\n",
       "      <td>2.356927</td>\n",
       "      <td>0.497132</td>\n",
       "    </tr>\n",
       "    <tr>\n",
       "      <th>min</th>\n",
       "      <td>-18.195000</td>\n",
       "      <td>-18.195000</td>\n",
       "      <td>-18.195000</td>\n",
       "      <td>-18.195000</td>\n",
       "      <td>-18.195000</td>\n",
       "      <td>0.087465</td>\n",
       "      <td>-18.195000</td>\n",
       "      <td>0.000000</td>\n",
       "    </tr>\n",
       "    <tr>\n",
       "      <th>25%</th>\n",
       "      <td>-1.154000</td>\n",
       "      <td>-1.154000</td>\n",
       "      <td>-1.158000</td>\n",
       "      <td>-1.158000</td>\n",
       "      <td>-1.166000</td>\n",
       "      <td>0.332022</td>\n",
       "      <td>-1.154000</td>\n",
       "      <td>0.000000</td>\n",
       "    </tr>\n",
       "    <tr>\n",
       "      <th>50%</th>\n",
       "      <td>0.241000</td>\n",
       "      <td>0.241000</td>\n",
       "      <td>0.241000</td>\n",
       "      <td>0.238000</td>\n",
       "      <td>0.234000</td>\n",
       "      <td>1.002680</td>\n",
       "      <td>0.241000</td>\n",
       "      <td>1.000000</td>\n",
       "    </tr>\n",
       "    <tr>\n",
       "      <th>75%</th>\n",
       "      <td>1.405000</td>\n",
       "      <td>1.409000</td>\n",
       "      <td>1.409000</td>\n",
       "      <td>1.409000</td>\n",
       "      <td>1.405000</td>\n",
       "      <td>2.053727</td>\n",
       "      <td>1.405000</td>\n",
       "      <td>1.000000</td>\n",
       "    </tr>\n",
       "    <tr>\n",
       "      <th>max</th>\n",
       "      <td>12.026000</td>\n",
       "      <td>12.026000</td>\n",
       "      <td>12.026000</td>\n",
       "      <td>12.026000</td>\n",
       "      <td>12.026000</td>\n",
       "      <td>9.328214</td>\n",
       "      <td>12.026000</td>\n",
       "      <td>1.000000</td>\n",
       "    </tr>\n",
       "  </tbody>\n",
       "</table>\n",
       "</div>"
      ],
      "text/plain": [
       "              Lag1         Lag2         Lag3         Lag4         Lag5  \\\n",
       "count  1089.000000  1089.000000  1089.000000  1089.000000  1089.000000   \n",
       "mean      0.150585     0.151079     0.147205     0.145818     0.139893   \n",
       "std       2.357013     2.357254     2.360502     2.360279     2.361285   \n",
       "min     -18.195000   -18.195000   -18.195000   -18.195000   -18.195000   \n",
       "25%      -1.154000    -1.154000    -1.158000    -1.158000    -1.166000   \n",
       "50%       0.241000     0.241000     0.241000     0.238000     0.234000   \n",
       "75%       1.405000     1.409000     1.409000     1.409000     1.405000   \n",
       "max      12.026000    12.026000    12.026000    12.026000    12.026000   \n",
       "\n",
       "            Volume        Today   Direction2  \n",
       "count  1089.000000  1089.000000  1089.000000  \n",
       "mean      1.574618     0.149899     0.555556  \n",
       "std       1.686636     2.356927     0.497132  \n",
       "min       0.087465   -18.195000     0.000000  \n",
       "25%       0.332022    -1.154000     0.000000  \n",
       "50%       1.002680     0.241000     1.000000  \n",
       "75%       2.053727     1.405000     1.000000  \n",
       "max       9.328214    12.026000     1.000000  "
      ]
     },
     "execution_count": 21,
     "metadata": {},
     "output_type": "execute_result"
    }
   ],
   "source": [
    "weekly.describe()"
   ]
  },
  {
   "cell_type": "markdown",
   "metadata": {},
   "source": [
    "#### 10.b"
   ]
  },
  {
   "cell_type": "code",
   "execution_count": 22,
   "metadata": {},
   "outputs": [
    {
     "name": "stdout",
     "output_type": "stream",
     "text": [
      "classes: [0 1]\n",
      "coefficient: [[-0.04117292  0.05846974 -0.01599122 -0.02769998 -0.01440289 -0.02212844]]\n",
      "intercept term: [ 0.26484745]\n"
     ]
    }
   ],
   "source": [
    "X = weekly[['Lag1', 'Lag2', 'Lag3', 'Lag4', 'Lag5', 'Volume']]\n",
    "y = weekly.Direction2\n",
    "\n",
    "regr = skl_lm.LogisticRegression()\n",
    "regr.fit(X, y)\n",
    "print('classes:', regr.classes_)\n",
    "print('coefficient:', regr.coef_)\n",
    "print('intercept term:', regr.intercept_)"
   ]
  },
  {
   "cell_type": "code",
   "execution_count": 23,
   "metadata": {},
   "outputs": [
    {
     "name": "stdout",
     "output_type": "stream",
     "text": [
      "Optimization terminated successfully.\n",
      "         Current function value: 0.682441\n",
      "         Iterations 4\n"
     ]
    },
    {
     "data": {
      "text/html": [
       "<table class=\"simpletable\">\n",
       "<tr>\n",
       "     <td></td>       <th>coef</th>     <th>std err</th>      <th>z</th>      <th>P>|z|</th>  <th>[0.025</th>    <th>0.975]</th>  \n",
       "</tr>\n",
       "<tr>\n",
       "  <th>const</th>  <td>    0.2669</td> <td>    0.086</td> <td>    3.106</td> <td> 0.002</td> <td>    0.098</td> <td>    0.435</td>\n",
       "</tr>\n",
       "<tr>\n",
       "  <th>Lag1</th>   <td>   -0.0413</td> <td>    0.026</td> <td>   -1.563</td> <td> 0.118</td> <td>   -0.093</td> <td>    0.010</td>\n",
       "</tr>\n",
       "<tr>\n",
       "  <th>Lag2</th>   <td>    0.0584</td> <td>    0.027</td> <td>    2.175</td> <td> 0.030</td> <td>    0.006</td> <td>    0.111</td>\n",
       "</tr>\n",
       "<tr>\n",
       "  <th>Lag3</th>   <td>   -0.0161</td> <td>    0.027</td> <td>   -0.602</td> <td> 0.547</td> <td>   -0.068</td> <td>    0.036</td>\n",
       "</tr>\n",
       "<tr>\n",
       "  <th>Lag4</th>   <td>   -0.0278</td> <td>    0.026</td> <td>   -1.050</td> <td> 0.294</td> <td>   -0.080</td> <td>    0.024</td>\n",
       "</tr>\n",
       "<tr>\n",
       "  <th>Lag5</th>   <td>   -0.0145</td> <td>    0.026</td> <td>   -0.549</td> <td> 0.583</td> <td>   -0.066</td> <td>    0.037</td>\n",
       "</tr>\n",
       "<tr>\n",
       "  <th>Volume</th> <td>   -0.0227</td> <td>    0.037</td> <td>   -0.616</td> <td> 0.538</td> <td>   -0.095</td> <td>    0.050</td>\n",
       "</tr>\n",
       "</table>"
      ],
      "text/plain": [
       "<class 'statsmodels.iolib.table.SimpleTable'>"
      ]
     },
     "execution_count": 23,
     "metadata": {},
     "output_type": "execute_result"
    }
   ],
   "source": [
    "X = sm.add_constant(X)\n",
    "est = smf.Logit(y.ravel(), X).fit()\n",
    "est.summary().tables[1]"
   ]
  },
  {
   "cell_type": "markdown",
   "metadata": {},
   "source": [
    "#### 10.c"
   ]
  },
  {
   "cell_type": "code",
   "execution_count": 24,
   "metadata": {},
   "outputs": [
    {
     "data": {
      "text/plain": [
       "array([[  54.,   48.],\n",
       "       [ 430.,  557.]])"
      ]
     },
     "execution_count": 24,
     "metadata": {},
     "output_type": "execute_result"
    }
   ],
   "source": [
    "est.pred_table().T"
   ]
  },
  {
   "cell_type": "markdown",
   "metadata": {},
   "source": [
    "Here, we see that when our model predicted the market to up, it often did, however, it was very inaccurate when it came to predicting if the market would go down."
   ]
  },
  {
   "cell_type": "markdown",
   "metadata": {},
   "source": [
    "#### 10.d"
   ]
  },
  {
   "cell_type": "code",
   "execution_count": 35,
   "metadata": {},
   "outputs": [],
   "source": [
    "X_train = weekly[:'2008'][['Lag2']]\n",
    "y_train = weekly[:'2008'][['Direction2']]\n",
    "\n",
    "X_test = weekly['2009':][['Lag2']]\n",
    "y_test = weekly['2009':][['Direction2']] "
   ]
  },
  {
   "cell_type": "code",
   "execution_count": 43,
   "metadata": {},
   "outputs": [],
   "source": [
    "regr = skl_lm.LogisticRegression()\n",
    "regr.fit(X_train, np.asarray(y_train).ravel())\n",
    "pred = regr.predict(X_test)"
   ]
  },
  {
   "cell_type": "code",
   "execution_count": 47,
   "metadata": {},
   "outputs": [
    {
     "name": "stdout",
     "output_type": "stream",
     "text": [
      "    0   1\n",
      "0   9   5\n",
      "1  34  56\n"
     ]
    }
   ],
   "source": [
    "cm_df = pd.DataFrame(confusion_matrix(y_test, pred).T, index=regr.classes_, columns=regr.classes_)\n",
    "print(cm_df)"
   ]
  },
  {
   "cell_type": "code",
   "execution_count": 48,
   "metadata": {},
   "outputs": [
    {
     "name": "stdout",
     "output_type": "stream",
     "text": [
      "             precision    recall  f1-score   support\n",
      "\n",
      "          0      0.643     0.209     0.316        43\n",
      "          1      0.622     0.918     0.742        61\n",
      "\n",
      "avg / total      0.631     0.625     0.566       104\n",
      "\n"
     ]
    }
   ],
   "source": [
    "print(classification_report(y_test, pred, digits=3))"
   ]
  },
  {
   "cell_type": "markdown",
   "metadata": {},
   "source": [
    "### 10.e"
   ]
  },
  {
   "cell_type": "code",
   "execution_count": 52,
   "metadata": {},
   "outputs": [
    {
     "name": "stdout",
     "output_type": "stream",
     "text": [
      "    0   1\n",
      "0   9   5\n",
      "1  34  56\n"
     ]
    }
   ],
   "source": [
    "lda = LinearDiscriminantAnalysis()\n",
    "lda.fit(X_train, np.asarray(y_train).ravel()) # have to go through these conversion calesthenics to get rid of the error\n",
    "pred = lda.predict(X_test)\n",
    "\n",
    "cm_df = pd.DataFrame(confusion_matrix(y_test, pred).T, index=lda.classes_, columns=lda.classes_)\n",
    "print(cm_df) # exactly the same as logistic regression"
   ]
  },
  {
   "cell_type": "markdown",
   "metadata": {},
   "source": [
    "### 10.f"
   ]
  },
  {
   "cell_type": "code",
   "execution_count": 53,
   "metadata": {},
   "outputs": [
    {
     "name": "stdout",
     "output_type": "stream",
     "text": [
      "    0   1\n",
      "0   0   0\n",
      "1  43  61\n"
     ]
    }
   ],
   "source": [
    "qda = QuadraticDiscriminantAnalysis()\n",
    "qda.fit(X_train, np.asarray(y_train).ravel()) \n",
    "pred = qda.predict(X_test)\n",
    "\n",
    "cm_df = pd.DataFrame(confusion_matrix(y_test, pred).T, index=qda.classes_, columns=qda.classes_)\n",
    "print(cm_df)"
   ]
  },
  {
   "cell_type": "markdown",
   "metadata": {},
   "source": [
    "### 10.g"
   ]
  },
  {
   "cell_type": "code",
   "execution_count": 55,
   "metadata": {},
   "outputs": [
    {
     "name": "stdout",
     "output_type": "stream",
     "text": [
      "    0   1\n",
      "0  21  31\n",
      "1  22  30\n"
     ]
    }
   ],
   "source": [
    "clf = neighbors.KNeighborsClassifier(n_neighbors=1, weights='uniform')\n",
    "clf.fit(X_train, np.asarray(y_train).ravel()) \n",
    "pred = clf.predict(X_test)\n",
    "\n",
    "cm_df = pd.DataFrame(confusion_matrix(y_test, pred).T, index=clf.classes_, columns=clf.classes_)\n",
    "print(cm_df)"
   ]
  },
  {
   "cell_type": "markdown",
   "metadata": {},
   "source": [
    "### 10.h"
   ]
  },
  {
   "cell_type": "markdown",
   "metadata": {},
   "source": [
    "LDA and Logistic Regression seem to be best."
   ]
  },
  {
   "cell_type": "code",
   "execution_count": null,
   "metadata": {},
   "outputs": [],
   "source": []
  }
 ],
 "metadata": {
  "kernelspec": {
   "display_name": "Python 3",
   "language": "python",
   "name": "python3"
  },
  "language_info": {
   "codemirror_mode": {
    "name": "ipython",
    "version": 3
   },
   "file_extension": ".py",
   "mimetype": "text/x-python",
   "name": "python",
   "nbconvert_exporter": "python",
   "pygments_lexer": "ipython3",
   "version": "3.6.3"
  }
 },
 "nbformat": 4,
 "nbformat_minor": 2
}
